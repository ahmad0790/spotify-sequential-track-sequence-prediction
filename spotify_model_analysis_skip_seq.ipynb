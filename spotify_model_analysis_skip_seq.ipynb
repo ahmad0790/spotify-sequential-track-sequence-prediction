{
 "cells": [
  {
   "cell_type": "code",
   "execution_count": 3,
   "metadata": {},
   "outputs": [
    {
     "name": "stdout",
     "output_type": "stream",
     "text": [
      "You are using device: cpu\n"
     ]
    }
   ],
   "source": [
    "import pandas as pd\n",
    "import numpy as np\n",
    "import math\n",
    "import pickle\n",
    "import torch\n",
    "import random\n",
    "import torch.nn as nn\n",
    "import torch.optim as optim\n",
    "import time\n",
    "from torch.utils.data import Dataset, DataLoader\n",
    "from models.BertSeqTransformer import StandardTransformer\n",
    "from datasets.SpotifyDataset import SpotifyDataset, bert_collate_fn, custom_collate_fn\n",
    "torch.manual_seed(1)\n",
    "EPOCHS = 1\n",
    "\n",
    "N=100000\n",
    "device = torch.device('cuda' if torch.cuda.is_available() else 'cpu')\n",
    "print(\"You are using device: %s\" % device)"
   ]
  },
  {
   "cell_type": "code",
   "execution_count": 30,
   "metadata": {},
   "outputs": [],
   "source": [
    "def accuracy(output, target):\n",
    "        \n",
    "    seq_len = target.shape[1]\n",
    "    correct = output.eq(target)\n",
    "    correct = correct.sum(axis=1) * 1.0\n",
    "    acc = correct / seq_len\n",
    "    return acc\n",
    "\n",
    "def accuracy_at_k(output, target):\n",
    "    \n",
    "    output = output.to(device)\n",
    "    target = target.to(device)\n",
    "    \n",
    "    T = output.shape[1]\n",
    "    batch_size = target.shape[0]\n",
    "    acc = torch.zeros(T)\n",
    "\n",
    "    for i in range(T):        \n",
    "        acc[i] = torch.mean(accuracy(output[:,i].reshape(batch_size,1), target[:,i].reshape(batch_size,1)))\n",
    "        \n",
    "    return acc"
   ]
  },
  {
   "cell_type": "code",
   "execution_count": 2,
   "metadata": {},
   "outputs": [
    {
     "name": "stdout",
     "output_type": "stream",
     "text": [
      "READING THE DATA\n"
     ]
    }
   ],
   "source": [
    "print(\"READING THE DATA\")\n",
    "with open(\"data/all_session_tracks_train.pkl\", 'rb') as f:\n",
    "    train_tracks = pickle.load(f)\n",
    "    train_tracks = train_tracks[0:N]\n",
    "\n",
    "with open(\"data/all_session_skips_train.pkl\", 'rb') as f:\n",
    "    train_skips = pickle.load(f)\n",
    "    train_skips = train_skips[0:N]\n",
    "\n",
    "with open(\"data/all_session_tracks_test.pkl\", 'rb') as f:\n",
    "    test_tracks = pickle.load(f)\n",
    "    test_tracks = test_tracks[0:N]\n",
    "\n",
    "with open(\"data/all_session_skips_test.pkl\", 'rb') as f:\n",
    "    test_skips = pickle.load(f)\n",
    "    test_skips = test_skips[0:N]\n",
    "\n",
    "with open(\"data/track_vocabs.pkl\", 'rb') as f:\n",
    "    track_vocab = pickle.load(f)"
   ]
  },
  {
   "cell_type": "code",
   "execution_count": 45,
   "metadata": {},
   "outputs": [],
   "source": [
    "bert_aug_seq_preds = np.load('output/transformer_bert_aug_seq_preds_v2.npy').astype(int)\n",
    "bert_aug_seq_labels = np.load('output/transformer_bert_aug_seq_labels.npy').astype(int)\n",
    "\n",
    "seq_preds = np.load('output/transformer_seq_preds_v2.npy')\n",
    "seq_labels = np.load('output/transformer_seq_labels.npy').astype(int)\n",
    "\n",
    "skip_preds = np.load('output/transformer_skip_preds_v2.npy')\n",
    "skip_labels = np.load('output/transformer_skip_labels.npy')\n",
    "skip_preds = np.argmax(skip_preds, axis=2)"
   ]
  },
  {
   "cell_type": "code",
   "execution_count": 46,
   "metadata": {},
   "outputs": [
    {
     "data": {
      "text/plain": [
       "array([[ 12168,  81694,  28681, ...,  27147,  65175,  17010],\n",
       "       [ 14657,   9756,  99171, ...,  64317,  23134,  42242],\n",
       "       [ 39370,   2339,  64515, ...,  10186,  79031,  52474],\n",
       "       ...,\n",
       "       [ 75651,  71519,  36036, ...,  98671,  99672,  22421],\n",
       "       [ 68105,  76688,  81105, ...,  89613,  60948,  11095],\n",
       "       [  3744,  80300,  91501, ...,   9235, 101661,   9235]])"
      ]
     },
     "execution_count": 46,
     "metadata": {},
     "output_type": "execute_result"
    }
   ],
   "source": [
    "seq_preds"
   ]
  },
  {
   "cell_type": "code",
   "execution_count": 47,
   "metadata": {},
   "outputs": [
    {
     "data": {
      "text/plain": [
       "array([[12562, 52180, 62182, ..., 65033, 75651, 12168],\n",
       "       [14657, 38284, 83850, ..., 83850, 38284, 83850],\n",
       "       [39370, 43012, 28185, ..., 24596, 28185, 43012],\n",
       "       ...,\n",
       "       [75651, 71519, 36036, ..., 98671, 99672, 22421],\n",
       "       [99652, 99652, 99652, ...,   230, 20159, 20159],\n",
       "       [27147, 24049, 24049, ..., 24049, 24049, 24049]])"
      ]
     },
     "execution_count": 47,
     "metadata": {},
     "output_type": "execute_result"
    }
   ],
   "source": [
    "bert_aug_seq_preds"
   ]
  },
  {
   "cell_type": "code",
   "execution_count": 18,
   "metadata": {},
   "outputs": [
    {
     "data": {
      "text/plain": [
       "array([[1, 1, 1, ..., 1, 1, 0],\n",
       "       [1, 1, 1, ..., 0, 0, 0],\n",
       "       [1, 0, 1, ..., 0, 0, 0],\n",
       "       ...,\n",
       "       [0, 0, 1, ..., 0, 1, 0],\n",
       "       [0, 0, 0, ..., 0, 0, 0],\n",
       "       [1, 1, 0, ..., 0, 0, 0]])"
      ]
     },
     "execution_count": 18,
     "metadata": {},
     "output_type": "execute_result"
    }
   ],
   "source": [
    "skip_preds"
   ]
  },
  {
   "cell_type": "code",
   "execution_count": 35,
   "metadata": {},
   "outputs": [
    {
     "name": "stdout",
     "output_type": "stream",
     "text": [
      "BERT AUG LOCATION ACCURACY\n"
     ]
    },
    {
     "data": {
      "text/plain": [
       "tensor([0.2457, 0.2168, 0.1947, 0.1788, 0.1647, 0.1522, 0.1404, 0.1301, 0.1183,\n",
       "        0.1091])"
      ]
     },
     "execution_count": 35,
     "metadata": {},
     "output_type": "execute_result"
    }
   ],
   "source": [
    "print(\"BERT AUG LOCATION ACCURACY\")\n",
    "accuracy_at_k(torch.Tensor(bert_aug_seq_preds), torch.Tensor(bert_aug_seq_labels))"
   ]
  },
  {
   "cell_type": "code",
   "execution_count": 37,
   "metadata": {},
   "outputs": [
    {
     "name": "stdout",
     "output_type": "stream",
     "text": [
      "SEQ TRANSFORMER LOCATION ACCURACY\n"
     ]
    },
    {
     "data": {
      "text/plain": [
       "tensor([0.2774, 0.2451, 0.2172, 0.2007, 0.1826, 0.1682, 0.1556, 0.1431, 0.1310,\n",
       "        0.1222])"
      ]
     },
     "execution_count": 37,
     "metadata": {},
     "output_type": "execute_result"
    }
   ],
   "source": [
    "print(\"SEQ TRANSFORMER LOCATION ACCURACY\")\n",
    "accuracy_at_k(torch.Tensor(seq_preds), torch.Tensor(seq_labels))"
   ]
  },
  {
   "cell_type": "code",
   "execution_count": 39,
   "metadata": {},
   "outputs": [
    {
     "name": "stdout",
     "output_type": "stream",
     "text": [
      "SKIP TRANSFORMER LOCATION ACCURACY\n"
     ]
    },
    {
     "data": {
      "text/plain": [
       "tensor([0.5289, 0.5296, 0.5367, 0.5367, 0.5453, 0.5352, 0.5449, 0.5336, 0.5275,\n",
       "        0.5075])"
      ]
     },
     "execution_count": 39,
     "metadata": {},
     "output_type": "execute_result"
    }
   ],
   "source": [
    "print(\"SKIP TRANSFORMER LOCATION ACCURACY\")\n",
    "accuracy_at_k(torch.Tensor(skip_preds), torch.Tensor(skip_labels))"
   ]
  },
  {
   "cell_type": "code",
   "execution_count": 67,
   "metadata": {},
   "outputs": [
    {
     "data": {
      "text/plain": [
       "array([67.777,  9.52 ,  3.637,  2.123,  1.586,  1.383,  1.171,  1.092,\n",
       "        1.066,  1.005,  9.64 ])"
      ]
     },
     "execution_count": 67,
     "metadata": {},
     "output_type": "execute_result"
    }
   ],
   "source": [
    "#number of songs correct in the whole sequence\n",
    "x = np.sum(bert_aug_seq_preds==seq_labels, axis=1)\n",
    "unique, counts = np.unique(x, return_counts=True)\n",
    "counts/100000*100"
   ]
  },
  {
   "cell_type": "code",
   "execution_count": 66,
   "metadata": {},
   "outputs": [
    {
     "data": {
      "text/plain": [
       "array([66.502,  8.448,  3.407,  2.236,  1.823,  1.611,  1.362,  1.275,\n",
       "        1.193,  1.086, 11.057])"
      ]
     },
     "execution_count": 66,
     "metadata": {},
     "output_type": "execute_result"
    }
   ],
   "source": [
    "#number of songs correct in the whole sequence\n",
    "x = np.sum(seq_preds==seq_labels, axis=1)\n",
    "unique, counts = np.unique(x, return_counts=True)\n",
    "counts/100000*100"
   ]
  },
  {
   "cell_type": "code",
   "execution_count": 117,
   "metadata": {},
   "outputs": [
    {
     "data": {
      "text/html": [
       "<div>\n",
       "<style scoped>\n",
       "    .dataframe tbody tr th:only-of-type {\n",
       "        vertical-align: middle;\n",
       "    }\n",
       "\n",
       "    .dataframe tbody tr th {\n",
       "        vertical-align: top;\n",
       "    }\n",
       "\n",
       "    .dataframe thead th {\n",
       "        text-align: right;\n",
       "    }\n",
       "</style>\n",
       "<table border=\"1\" class=\"dataframe\">\n",
       "  <thead>\n",
       "    <tr style=\"text-align: right;\">\n",
       "      <th></th>\n",
       "      <th>correct_per_session</th>\n",
       "    </tr>\n",
       "    <tr>\n",
       "      <th>unique_per_session</th>\n",
       "      <th></th>\n",
       "    </tr>\n",
       "  </thead>\n",
       "  <tbody>\n",
       "    <tr>\n",
       "      <th>1</th>\n",
       "      <td>0.478357</td>\n",
       "    </tr>\n",
       "    <tr>\n",
       "      <th>2</th>\n",
       "      <td>0.299649</td>\n",
       "    </tr>\n",
       "    <tr>\n",
       "      <th>3</th>\n",
       "      <td>0.324548</td>\n",
       "    </tr>\n",
       "    <tr>\n",
       "      <th>4</th>\n",
       "      <td>0.492754</td>\n",
       "    </tr>\n",
       "    <tr>\n",
       "      <th>5</th>\n",
       "      <td>0.494466</td>\n",
       "    </tr>\n",
       "    <tr>\n",
       "      <th>6</th>\n",
       "      <td>0.582177</td>\n",
       "    </tr>\n",
       "    <tr>\n",
       "      <th>7</th>\n",
       "      <td>0.706208</td>\n",
       "    </tr>\n",
       "    <tr>\n",
       "      <th>8</th>\n",
       "      <td>0.917570</td>\n",
       "    </tr>\n",
       "    <tr>\n",
       "      <th>9</th>\n",
       "      <td>0.773691</td>\n",
       "    </tr>\n",
       "    <tr>\n",
       "      <th>10</th>\n",
       "      <td>2.683918</td>\n",
       "    </tr>\n",
       "  </tbody>\n",
       "</table>\n",
       "</div>"
      ],
      "text/plain": [
       "                    correct_per_session\n",
       "unique_per_session                     \n",
       "1                              0.478357\n",
       "2                              0.299649\n",
       "3                              0.324548\n",
       "4                              0.492754\n",
       "5                              0.494466\n",
       "6                              0.582177\n",
       "7                              0.706208\n",
       "8                              0.917570\n",
       "9                              0.773691\n",
       "10                             2.683918"
      ]
     },
     "execution_count": 117,
     "metadata": {},
     "output_type": "execute_result"
    }
   ],
   "source": [
    "seq_preds_sort = np.sort(seq_preds,axis=1)\n",
    "unique_per_session = (seq_preds_sort[:,1:] != seq_preds_sort[:,:-1]).sum(axis=1)+1\n",
    "correct_per_session = np.sum(seq_preds==seq_labels, axis=1)\n",
    "df = pd.DataFrame({'unique_per_session':unique_per_session, 'correct_per_session':correct_per_session})\n",
    "df.groupby('unique_per_session').sum('correct_per_session')/df.groupby('unique_per_session').count()"
   ]
  },
  {
   "cell_type": "code",
   "execution_count": 116,
   "metadata": {},
   "outputs": [
    {
     "data": {
      "text/html": [
       "<div>\n",
       "<style scoped>\n",
       "    .dataframe tbody tr th:only-of-type {\n",
       "        vertical-align: middle;\n",
       "    }\n",
       "\n",
       "    .dataframe tbody tr th {\n",
       "        vertical-align: top;\n",
       "    }\n",
       "\n",
       "    .dataframe thead th {\n",
       "        text-align: right;\n",
       "    }\n",
       "</style>\n",
       "<table border=\"1\" class=\"dataframe\">\n",
       "  <thead>\n",
       "    <tr style=\"text-align: right;\">\n",
       "      <th></th>\n",
       "      <th>correct_per_session</th>\n",
       "    </tr>\n",
       "    <tr>\n",
       "      <th>unique_per_session</th>\n",
       "      <th></th>\n",
       "    </tr>\n",
       "  </thead>\n",
       "  <tbody>\n",
       "    <tr>\n",
       "      <th>1</th>\n",
       "      <td>0.382192</td>\n",
       "    </tr>\n",
       "    <tr>\n",
       "      <th>2</th>\n",
       "      <td>0.468513</td>\n",
       "    </tr>\n",
       "    <tr>\n",
       "      <th>3</th>\n",
       "      <td>0.441935</td>\n",
       "    </tr>\n",
       "    <tr>\n",
       "      <th>4</th>\n",
       "      <td>0.562171</td>\n",
       "    </tr>\n",
       "    <tr>\n",
       "      <th>5</th>\n",
       "      <td>0.600872</td>\n",
       "    </tr>\n",
       "    <tr>\n",
       "      <th>6</th>\n",
       "      <td>0.730182</td>\n",
       "    </tr>\n",
       "    <tr>\n",
       "      <th>7</th>\n",
       "      <td>0.921245</td>\n",
       "    </tr>\n",
       "    <tr>\n",
       "      <th>8</th>\n",
       "      <td>1.437368</td>\n",
       "    </tr>\n",
       "    <tr>\n",
       "      <th>9</th>\n",
       "      <td>1.787886</td>\n",
       "    </tr>\n",
       "    <tr>\n",
       "      <th>10</th>\n",
       "      <td>6.176684</td>\n",
       "    </tr>\n",
       "  </tbody>\n",
       "</table>\n",
       "</div>"
      ],
      "text/plain": [
       "                    correct_per_session\n",
       "unique_per_session                     \n",
       "1                              0.382192\n",
       "2                              0.468513\n",
       "3                              0.441935\n",
       "4                              0.562171\n",
       "5                              0.600872\n",
       "6                              0.730182\n",
       "7                              0.921245\n",
       "8                              1.437368\n",
       "9                              1.787886\n",
       "10                             6.176684"
      ]
     },
     "execution_count": 116,
     "metadata": {},
     "output_type": "execute_result"
    }
   ],
   "source": [
    "seq_preds_sort = np.sort(bert_aug_seq_preds,axis=1)\n",
    "unique_per_session = (seq_preds_sort[:,1:] != seq_preds_sort[:,:-1]).sum(axis=1)+1\n",
    "correct_per_session = np.sum(seq_preds==seq_labels, axis=1)\n",
    "df = pd.DataFrame({'unique_per_session':unique_per_session, 'correct_per_session':correct_per_session})\n",
    "df.groupby('unique_per_session').sum('correct_per_session')/df.groupby('unique_per_session').count()"
   ]
  },
  {
   "cell_type": "code",
   "execution_count": 121,
   "metadata": {},
   "outputs": [
    {
     "data": {
      "text/plain": [
       "array([ 3.201,  5.576,  7.796,  9.618, 11.939, 12.827, 13.124, 12.477,\n",
       "       10.906,  7.995,  4.541])"
      ]
     },
     "execution_count": 121,
     "metadata": {},
     "output_type": "execute_result"
    }
   ],
   "source": [
    "#number of skips correct in the whole sequence\n",
    "x = np.sum(skip_preds==skip_labels, axis=1)\n",
    "unique, counts = np.unique(x, return_counts=True)\n",
    "counts/100000*100"
   ]
  },
  {
   "cell_type": "code",
   "execution_count": 132,
   "metadata": {},
   "outputs": [
    {
     "data": {
      "text/html": [
       "<div>\n",
       "<style scoped>\n",
       "    .dataframe tbody tr th:only-of-type {\n",
       "        vertical-align: middle;\n",
       "    }\n",
       "\n",
       "    .dataframe tbody tr th {\n",
       "        vertical-align: top;\n",
       "    }\n",
       "\n",
       "    .dataframe thead th {\n",
       "        text-align: right;\n",
       "    }\n",
       "</style>\n",
       "<table border=\"1\" class=\"dataframe\">\n",
       "  <thead>\n",
       "    <tr style=\"text-align: right;\">\n",
       "      <th></th>\n",
       "      <th>accuracy_per_session</th>\n",
       "    </tr>\n",
       "    <tr>\n",
       "      <th>number_of_skips</th>\n",
       "      <th></th>\n",
       "    </tr>\n",
       "  </thead>\n",
       "  <tbody>\n",
       "    <tr>\n",
       "      <th>1</th>\n",
       "      <td>0.565702</td>\n",
       "    </tr>\n",
       "    <tr>\n",
       "      <th>2</th>\n",
       "      <td>0.553062</td>\n",
       "    </tr>\n",
       "    <tr>\n",
       "      <th>3</th>\n",
       "      <td>0.549985</td>\n",
       "    </tr>\n",
       "    <tr>\n",
       "      <th>4</th>\n",
       "      <td>0.547071</td>\n",
       "    </tr>\n",
       "    <tr>\n",
       "      <th>5</th>\n",
       "      <td>0.532560</td>\n",
       "    </tr>\n",
       "    <tr>\n",
       "      <th>6</th>\n",
       "      <td>0.545497</td>\n",
       "    </tr>\n",
       "    <tr>\n",
       "      <th>7</th>\n",
       "      <td>0.534895</td>\n",
       "    </tr>\n",
       "    <tr>\n",
       "      <th>8</th>\n",
       "      <td>0.534553</td>\n",
       "    </tr>\n",
       "    <tr>\n",
       "      <th>9</th>\n",
       "      <td>0.531570</td>\n",
       "    </tr>\n",
       "    <tr>\n",
       "      <th>10</th>\n",
       "      <td>0.525982</td>\n",
       "    </tr>\n",
       "  </tbody>\n",
       "</table>\n",
       "</div>"
      ],
      "text/plain": [
       "                 accuracy_per_session\n",
       "number_of_skips                      \n",
       "1                            0.565702\n",
       "2                            0.553062\n",
       "3                            0.549985\n",
       "4                            0.547071\n",
       "5                            0.532560\n",
       "6                            0.545497\n",
       "7                            0.534895\n",
       "8                            0.534553\n",
       "9                            0.531570\n",
       "10                           0.525982"
      ]
     },
     "execution_count": 132,
     "metadata": {},
     "output_type": "execute_result"
    }
   ],
   "source": [
    "number_of_skips = np.sum(skip_preds, axis=1)\n",
    "correct_per_session = np.sum(skip_preds==skip_labels, axis=1)\n",
    "df = pd.DataFrame({'number_of_skips':unique_per_session, 'accuracy_per_session':correct_per_session})\n",
    "df = df.groupby('number_of_skips').sum('correct_per_session')/df.groupby('number_of_skips').count()\n",
    "df = df/10\n",
    "df"
   ]
  },
  {
   "cell_type": "code",
   "execution_count": null,
   "metadata": {},
   "outputs": [],
   "source": []
  },
  {
   "cell_type": "code",
   "execution_count": null,
   "metadata": {},
   "outputs": [],
   "source": []
  }
 ],
 "metadata": {
  "kernelspec": {
   "display_name": "Python 3",
   "language": "python",
   "name": "python3"
  },
  "language_info": {
   "codemirror_mode": {
    "name": "ipython",
    "version": 3
   },
   "file_extension": ".py",
   "mimetype": "text/x-python",
   "name": "python",
   "nbconvert_exporter": "python",
   "pygments_lexer": "ipython3",
   "version": "3.8.5"
  }
 },
 "nbformat": 4,
 "nbformat_minor": 4
}
