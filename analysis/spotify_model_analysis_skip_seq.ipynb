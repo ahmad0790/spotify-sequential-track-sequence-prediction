{
 "cells": [
  {
   "cell_type": "code",
   "execution_count": 164,
   "metadata": {},
   "outputs": [
    {
     "name": "stdout",
     "output_type": "stream",
     "text": [
      "You are using device: cpu\n"
     ]
    }
   ],
   "source": [
    "import pandas as pd\n",
    "import numpy as np\n",
    "import math\n",
    "import pickle\n",
    "import torch\n",
    "import random\n",
    "import torch.nn as nn\n",
    "import torch.optim as optim\n",
    "import time\n",
    "from matplotlib import pyplot as plt\n",
    "from torch.utils.data import Dataset, DataLoader\n",
    "from models.BertSeqTransformer import StandardTransformer\n",
    "from datasets.SpotifyDataset import SpotifyDataset, bert_collate_fn, custom_collate_fn\n",
    "torch.manual_seed(1)\n",
    "EPOCHS = 1\n",
    "\n",
    "N=100000\n",
    "device = torch.device('cuda' if torch.cuda.is_available() else 'cpu')\n",
    "print(\"You are using device: %s\" % device)"
   ]
  },
  {
   "cell_type": "code",
   "execution_count": 179,
   "metadata": {},
   "outputs": [],
   "source": [
    "def accuracy(output, target):\n",
    "        \n",
    "    seq_len = target.shape[1]\n",
    "    correct = output.eq(target)\n",
    "    correct = correct.sum(axis=1) * 1.0\n",
    "    acc = correct / seq_len\n",
    "    return acc\n",
    "\n",
    "def accuracy_at_k(output, target):\n",
    "    \n",
    "    output = output.to(device)\n",
    "    target = target.to(device)\n",
    "    \n",
    "    T = output.shape[1]\n",
    "    batch_size = target.shape[0]\n",
    "    acc = torch.zeros(T)\n",
    "\n",
    "    for i in range(T):        \n",
    "        acc[i] = torch.mean(accuracy(output[:,i].reshape(batch_size,1), target[:,i].reshape(batch_size,1)))\n",
    "        \n",
    "    return acc"
   ]
  },
  {
   "cell_type": "code",
   "execution_count": 2,
   "metadata": {},
   "outputs": [
    {
     "name": "stdout",
     "output_type": "stream",
     "text": [
      "READING THE DATA\n"
     ]
    }
   ],
   "source": [
    "print(\"READING THE DATA\")\n",
    "with open(\"data/all_session_tracks_train.pkl\", 'rb') as f:\n",
    "    train_tracks = pickle.load(f)\n",
    "    train_tracks = train_tracks[0:N]\n",
    "\n",
    "with open(\"data/all_session_skips_train.pkl\", 'rb') as f:\n",
    "    train_skips = pickle.load(f)\n",
    "    train_skips = train_skips[0:N]\n",
    "\n",
    "with open(\"data/all_session_tracks_test.pkl\", 'rb') as f:\n",
    "    test_tracks = pickle.load(f)\n",
    "    test_tracks = test_tracks[0:N]\n",
    "\n",
    "with open(\"data/all_session_skips_test.pkl\", 'rb') as f:\n",
    "    test_skips = pickle.load(f)\n",
    "    test_skips = test_skips[0:N]\n",
    "\n",
    "with open(\"data/track_vocabs.pkl\", 'rb') as f:\n",
    "    track_vocab = pickle.load(f)"
   ]
  },
  {
   "cell_type": "code",
   "execution_count": 180,
   "metadata": {},
   "outputs": [],
   "source": [
    "bert_aug_seq_preds = np.load('output/transformer_bert_aug_seq_preds_v2.npy').astype(int)\n",
    "bert_aug_seq_labels = np.load('output/transformer_bert_aug_seq_labels.npy').astype(int)\n",
    "\n",
    "seq_preds = np.load('output/transformer_seq_preds_v2.npy')\n",
    "seq_labels = np.load('output/transformer_seq_labels.npy').astype(int)\n",
    "\n",
    "skip_preds = np.load('output/transformer_skip_preds_v2.npy')\n",
    "skip_labels = np.load('output/transformer_skip_labels.npy')\n",
    "skip_preds = np.argmax(skip_preds, axis=2)"
   ]
  },
  {
   "cell_type": "code",
   "execution_count": 152,
   "metadata": {},
   "outputs": [
    {
     "data": {
      "text/plain": [
       "array([[ 12168,  81694,  28681, ...,  27147,  65175,  17010],\n",
       "       [ 14657,   9756,  99171, ...,  64317,  23134,  42242],\n",
       "       [ 39370,   2339,  64515, ...,  10186,  79031,  52474],\n",
       "       ...,\n",
       "       [ 75651,  71519,  36036, ...,  98671,  99672,  22421],\n",
       "       [ 68105,  76688,  81105, ...,  89613,  60948,  11095],\n",
       "       [  3744,  80300,  91501, ...,   9235, 101661,   9235]])"
      ]
     },
     "execution_count": 152,
     "metadata": {},
     "output_type": "execute_result"
    }
   ],
   "source": [
    "seq_preds"
   ]
  },
  {
   "cell_type": "code",
   "execution_count": 153,
   "metadata": {},
   "outputs": [
    {
     "data": {
      "text/plain": [
       "array([[12562, 52180, 62182, ..., 65033, 75651, 12168],\n",
       "       [14657, 38284, 83850, ..., 83850, 38284, 83850],\n",
       "       [39370, 43012, 28185, ..., 24596, 28185, 43012],\n",
       "       ...,\n",
       "       [75651, 71519, 36036, ..., 98671, 99672, 22421],\n",
       "       [99652, 99652, 99652, ...,   230, 20159, 20159],\n",
       "       [27147, 24049, 24049, ..., 24049, 24049, 24049]])"
      ]
     },
     "execution_count": 153,
     "metadata": {},
     "output_type": "execute_result"
    }
   ],
   "source": [
    "bert_aug_seq_preds"
   ]
  },
  {
   "cell_type": "code",
   "execution_count": 154,
   "metadata": {},
   "outputs": [
    {
     "data": {
      "text/plain": [
       "array([[1, 1, 1, ..., 1, 1, 0],\n",
       "       [1, 1, 1, ..., 0, 0, 0],\n",
       "       [1, 0, 1, ..., 0, 0, 0],\n",
       "       ...,\n",
       "       [0, 0, 1, ..., 0, 1, 0],\n",
       "       [0, 0, 0, ..., 0, 0, 0],\n",
       "       [1, 1, 0, ..., 0, 0, 0]])"
      ]
     },
     "execution_count": 154,
     "metadata": {},
     "output_type": "execute_result"
    }
   ],
   "source": [
    "skip_preds"
   ]
  },
  {
   "cell_type": "code",
   "execution_count": 156,
   "metadata": {},
   "outputs": [
    {
     "data": {
      "text/html": [
       "<div>\n",
       "<style scoped>\n",
       "    .dataframe tbody tr th:only-of-type {\n",
       "        vertical-align: middle;\n",
       "    }\n",
       "\n",
       "    .dataframe tbody tr th {\n",
       "        vertical-align: top;\n",
       "    }\n",
       "\n",
       "    .dataframe thead th {\n",
       "        text-align: right;\n",
       "    }\n",
       "</style>\n",
       "<table border=\"1\" class=\"dataframe\">\n",
       "  <thead>\n",
       "    <tr style=\"text-align: right;\">\n",
       "      <th></th>\n",
       "      <th>0</th>\n",
       "      <th>1</th>\n",
       "      <th>2</th>\n",
       "      <th>3</th>\n",
       "      <th>4</th>\n",
       "      <th>5</th>\n",
       "      <th>6</th>\n",
       "      <th>7</th>\n",
       "      <th>8</th>\n",
       "      <th>9</th>\n",
       "    </tr>\n",
       "  </thead>\n",
       "  <tbody>\n",
       "    <tr>\n",
       "      <th>Standard Transformer</th>\n",
       "      <td>0.27742</td>\n",
       "      <td>0.24510</td>\n",
       "      <td>0.21724</td>\n",
       "      <td>0.20068</td>\n",
       "      <td>0.18256</td>\n",
       "      <td>0.16819</td>\n",
       "      <td>0.15559</td>\n",
       "      <td>0.14308</td>\n",
       "      <td>0.13100</td>\n",
       "      <td>0.12216</td>\n",
       "    </tr>\n",
       "    <tr>\n",
       "      <th>Bert Augmented Transformer</th>\n",
       "      <td>0.24566</td>\n",
       "      <td>0.21676</td>\n",
       "      <td>0.19468</td>\n",
       "      <td>0.17877</td>\n",
       "      <td>0.16471</td>\n",
       "      <td>0.15220</td>\n",
       "      <td>0.14038</td>\n",
       "      <td>0.13013</td>\n",
       "      <td>0.11829</td>\n",
       "      <td>0.10907</td>\n",
       "    </tr>\n",
       "  </tbody>\n",
       "</table>\n",
       "</div>"
      ],
      "text/plain": [
       "                                  0        1        2        3        4  \\\n",
       "Standard Transformer        0.27742  0.24510  0.21724  0.20068  0.18256   \n",
       "Bert Augmented Transformer  0.24566  0.21676  0.19468  0.17877  0.16471   \n",
       "\n",
       "                                  5        6        7        8        9  \n",
       "Standard Transformer        0.16819  0.15559  0.14308  0.13100  0.12216  \n",
       "Bert Augmented Transformer  0.15220  0.14038  0.13013  0.11829  0.10907  "
      ]
     },
     "execution_count": 156,
     "metadata": {},
     "output_type": "execute_result"
    }
   ],
   "source": [
    "seq_by_location = accuracy_at_k(torch.Tensor(seq_preds), torch.Tensor(seq_labels))\n",
    "bert_aug_by_location = accuracy_at_k(torch.Tensor(bert_aug_seq_preds), torch.Tensor(bert_aug_seq_labels))\n",
    "df = pd.DataFrame({'Standard Transformer':seq_by_location, 'Bert Augmented Transformer':bert_aug_by_location})\n",
    "df.transpose()"
   ]
  },
  {
   "cell_type": "code",
   "execution_count": 181,
   "metadata": {},
   "outputs": [
    {
     "data": {
      "text/html": [
       "<div>\n",
       "<style scoped>\n",
       "    .dataframe tbody tr th:only-of-type {\n",
       "        vertical-align: middle;\n",
       "    }\n",
       "\n",
       "    .dataframe tbody tr th {\n",
       "        vertical-align: top;\n",
       "    }\n",
       "\n",
       "    .dataframe thead th {\n",
       "        text-align: right;\n",
       "    }\n",
       "</style>\n",
       "<table border=\"1\" class=\"dataframe\">\n",
       "  <thead>\n",
       "    <tr style=\"text-align: right;\">\n",
       "      <th></th>\n",
       "      <th>Skip Model Transformer</th>\n",
       "    </tr>\n",
       "  </thead>\n",
       "  <tbody>\n",
       "    <tr>\n",
       "      <th>0</th>\n",
       "      <td>0.52895</td>\n",
       "    </tr>\n",
       "    <tr>\n",
       "      <th>1</th>\n",
       "      <td>0.52962</td>\n",
       "    </tr>\n",
       "    <tr>\n",
       "      <th>2</th>\n",
       "      <td>0.53674</td>\n",
       "    </tr>\n",
       "    <tr>\n",
       "      <th>3</th>\n",
       "      <td>0.53672</td>\n",
       "    </tr>\n",
       "    <tr>\n",
       "      <th>4</th>\n",
       "      <td>0.54528</td>\n",
       "    </tr>\n",
       "    <tr>\n",
       "      <th>5</th>\n",
       "      <td>0.53519</td>\n",
       "    </tr>\n",
       "    <tr>\n",
       "      <th>6</th>\n",
       "      <td>0.54489</td>\n",
       "    </tr>\n",
       "    <tr>\n",
       "      <th>7</th>\n",
       "      <td>0.53364</td>\n",
       "    </tr>\n",
       "    <tr>\n",
       "      <th>8</th>\n",
       "      <td>0.52752</td>\n",
       "    </tr>\n",
       "    <tr>\n",
       "      <th>9</th>\n",
       "      <td>0.50754</td>\n",
       "    </tr>\n",
       "  </tbody>\n",
       "</table>\n",
       "</div>"
      ],
      "text/plain": [
       "   Skip Model Transformer\n",
       "0                 0.52895\n",
       "1                 0.52962\n",
       "2                 0.53674\n",
       "3                 0.53672\n",
       "4                 0.54528\n",
       "5                 0.53519\n",
       "6                 0.54489\n",
       "7                 0.53364\n",
       "8                 0.52752\n",
       "9                 0.50754"
      ]
     },
     "execution_count": 181,
     "metadata": {},
     "output_type": "execute_result"
    }
   ],
   "source": [
    "skip_by_location = accuracy_at_k(torch.Tensor(skip_preds), torch.Tensor(skip_labels))\n",
    "df = pd.DataFrame({'Skip Model Transformer':skip_by_location})\n",
    "df"
   ]
  },
  {
   "cell_type": "code",
   "execution_count": 182,
   "metadata": {},
   "outputs": [],
   "source": [
    "#number of songs correct in the whole sequence\n",
    "x = np.sum(bert_aug_seq_preds==seq_labels, axis=1)\n",
    "unique, counts = np.unique(x, return_counts=True)\n",
    "bert_trans_counts = counts/100000*100"
   ]
  },
  {
   "cell_type": "code",
   "execution_count": 185,
   "metadata": {},
   "outputs": [
    {
     "data": {
      "text/plain": [
       "array([67777,  9520,  3637,  2123,  1586,  1383,  1171,  1092,  1066,\n",
       "        1005,  9640])"
      ]
     },
     "execution_count": 185,
     "metadata": {},
     "output_type": "execute_result"
    }
   ],
   "source": [
    "counts"
   ]
  },
  {
   "cell_type": "code",
   "execution_count": 160,
   "metadata": {},
   "outputs": [],
   "source": [
    "#number of songs correct in the whole sequence\n",
    "x = np.sum(seq_preds==seq_labels, axis=1)\n",
    "unique, counts = np.unique(x, return_counts=True)\n",
    "trans_counts = counts/100000*100"
   ]
  },
  {
   "cell_type": "code",
   "execution_count": 167,
   "metadata": {},
   "outputs": [
    {
     "data": {
      "text/html": [
       "<div>\n",
       "<style scoped>\n",
       "    .dataframe tbody tr th:only-of-type {\n",
       "        vertical-align: middle;\n",
       "    }\n",
       "\n",
       "    .dataframe tbody tr th {\n",
       "        vertical-align: top;\n",
       "    }\n",
       "\n",
       "    .dataframe thead th {\n",
       "        text-align: right;\n",
       "    }\n",
       "</style>\n",
       "<table border=\"1\" class=\"dataframe\">\n",
       "  <thead>\n",
       "    <tr style=\"text-align: right;\">\n",
       "      <th></th>\n",
       "      <th>Standard Transformer</th>\n",
       "      <th>Bert Augmented Transformer</th>\n",
       "    </tr>\n",
       "  </thead>\n",
       "  <tbody>\n",
       "    <tr>\n",
       "      <th>0</th>\n",
       "      <td>66.502</td>\n",
       "      <td>67.777</td>\n",
       "    </tr>\n",
       "    <tr>\n",
       "      <th>1</th>\n",
       "      <td>8.448</td>\n",
       "      <td>9.520</td>\n",
       "    </tr>\n",
       "    <tr>\n",
       "      <th>2</th>\n",
       "      <td>3.407</td>\n",
       "      <td>3.637</td>\n",
       "    </tr>\n",
       "    <tr>\n",
       "      <th>3</th>\n",
       "      <td>2.236</td>\n",
       "      <td>2.123</td>\n",
       "    </tr>\n",
       "    <tr>\n",
       "      <th>4</th>\n",
       "      <td>1.823</td>\n",
       "      <td>1.586</td>\n",
       "    </tr>\n",
       "    <tr>\n",
       "      <th>5</th>\n",
       "      <td>1.611</td>\n",
       "      <td>1.383</td>\n",
       "    </tr>\n",
       "    <tr>\n",
       "      <th>6</th>\n",
       "      <td>1.362</td>\n",
       "      <td>1.171</td>\n",
       "    </tr>\n",
       "    <tr>\n",
       "      <th>7</th>\n",
       "      <td>1.275</td>\n",
       "      <td>1.092</td>\n",
       "    </tr>\n",
       "    <tr>\n",
       "      <th>8</th>\n",
       "      <td>1.193</td>\n",
       "      <td>1.066</td>\n",
       "    </tr>\n",
       "    <tr>\n",
       "      <th>9</th>\n",
       "      <td>1.086</td>\n",
       "      <td>1.005</td>\n",
       "    </tr>\n",
       "    <tr>\n",
       "      <th>10</th>\n",
       "      <td>11.057</td>\n",
       "      <td>9.640</td>\n",
       "    </tr>\n",
       "  </tbody>\n",
       "</table>\n",
       "</div>"
      ],
      "text/plain": [
       "    Standard Transformer  Bert Augmented Transformer\n",
       "0                 66.502                      67.777\n",
       "1                  8.448                       9.520\n",
       "2                  3.407                       3.637\n",
       "3                  2.236                       2.123\n",
       "4                  1.823                       1.586\n",
       "5                  1.611                       1.383\n",
       "6                  1.362                       1.171\n",
       "7                  1.275                       1.092\n",
       "8                  1.193                       1.066\n",
       "9                  1.086                       1.005\n",
       "10                11.057                       9.640"
      ]
     },
     "execution_count": 167,
     "metadata": {},
     "output_type": "execute_result"
    }
   ],
   "source": [
    "df = pd.DataFrame({'Standard Transformer':trans_counts, 'Bert Augmented Transformer':bert_trans_counts})\n",
    "df"
   ]
  },
  {
   "cell_type": "code",
   "execution_count": 175,
   "metadata": {},
   "outputs": [],
   "source": [
    "seq_preds_sort = np.sort(seq_preds,axis=1)\n",
    "unique_per_session = (seq_preds_sort[:,1:] != seq_preds_sort[:,:-1]).sum(axis=1)+1\n",
    "correct_per_session = np.sum(seq_preds==seq_labels, axis=1)\n",
    "df = pd.DataFrame({'unique_tracks_per_session':unique_per_session, 'Standard_Transformer':correct_per_session})\n",
    "unique_session_correct = df.groupby('unique_tracks_per_session').sum('Standard_Transformer')/df.groupby('unique_tracks_per_session').count()\n"
   ]
  },
  {
   "cell_type": "code",
   "execution_count": 176,
   "metadata": {},
   "outputs": [
    {
     "data": {
      "text/html": [
       "<div>\n",
       "<style scoped>\n",
       "    .dataframe tbody tr th:only-of-type {\n",
       "        vertical-align: middle;\n",
       "    }\n",
       "\n",
       "    .dataframe tbody tr th {\n",
       "        vertical-align: top;\n",
       "    }\n",
       "\n",
       "    .dataframe thead th {\n",
       "        text-align: right;\n",
       "    }\n",
       "</style>\n",
       "<table border=\"1\" class=\"dataframe\">\n",
       "  <thead>\n",
       "    <tr style=\"text-align: right;\">\n",
       "      <th></th>\n",
       "      <th>Standard_Transformer</th>\n",
       "      <th>Bert Augmented Transformer</th>\n",
       "    </tr>\n",
       "    <tr>\n",
       "      <th>unique_tracks_per_session</th>\n",
       "      <th></th>\n",
       "      <th></th>\n",
       "    </tr>\n",
       "  </thead>\n",
       "  <tbody>\n",
       "    <tr>\n",
       "      <th>1</th>\n",
       "      <td>0.478357</td>\n",
       "      <td>0.382192</td>\n",
       "    </tr>\n",
       "    <tr>\n",
       "      <th>2</th>\n",
       "      <td>0.299649</td>\n",
       "      <td>0.468513</td>\n",
       "    </tr>\n",
       "    <tr>\n",
       "      <th>3</th>\n",
       "      <td>0.324548</td>\n",
       "      <td>0.441935</td>\n",
       "    </tr>\n",
       "    <tr>\n",
       "      <th>4</th>\n",
       "      <td>0.492754</td>\n",
       "      <td>0.562171</td>\n",
       "    </tr>\n",
       "    <tr>\n",
       "      <th>5</th>\n",
       "      <td>0.494466</td>\n",
       "      <td>0.600872</td>\n",
       "    </tr>\n",
       "    <tr>\n",
       "      <th>6</th>\n",
       "      <td>0.582177</td>\n",
       "      <td>0.730182</td>\n",
       "    </tr>\n",
       "    <tr>\n",
       "      <th>7</th>\n",
       "      <td>0.706208</td>\n",
       "      <td>0.921245</td>\n",
       "    </tr>\n",
       "    <tr>\n",
       "      <th>8</th>\n",
       "      <td>0.917570</td>\n",
       "      <td>1.437368</td>\n",
       "    </tr>\n",
       "    <tr>\n",
       "      <th>9</th>\n",
       "      <td>0.773691</td>\n",
       "      <td>1.787886</td>\n",
       "    </tr>\n",
       "    <tr>\n",
       "      <th>10</th>\n",
       "      <td>2.683918</td>\n",
       "      <td>6.176684</td>\n",
       "    </tr>\n",
       "  </tbody>\n",
       "</table>\n",
       "</div>"
      ],
      "text/plain": [
       "                           Standard_Transformer  Bert Augmented Transformer\n",
       "unique_tracks_per_session                                                  \n",
       "1                                      0.478357                    0.382192\n",
       "2                                      0.299649                    0.468513\n",
       "3                                      0.324548                    0.441935\n",
       "4                                      0.492754                    0.562171\n",
       "5                                      0.494466                    0.600872\n",
       "6                                      0.582177                    0.730182\n",
       "7                                      0.706208                    0.921245\n",
       "8                                      0.917570                    1.437368\n",
       "9                                      0.773691                    1.787886\n",
       "10                                     2.683918                    6.176684"
      ]
     },
     "execution_count": 176,
     "metadata": {},
     "output_type": "execute_result"
    }
   ],
   "source": [
    "seq_preds_sort = np.sort(bert_aug_seq_preds,axis=1)\n",
    "unique_per_session = (seq_preds_sort[:,1:] != seq_preds_sort[:,:-1]).sum(axis=1)+1\n",
    "correct_per_session = np.sum(seq_preds==seq_labels, axis=1)\n",
    "df = pd.DataFrame({'unique_per_session':unique_per_session, 'correct_per_session':correct_per_session})\n",
    "df = df.groupby('unique_per_session').sum('correct_per_session')/df.groupby('unique_per_session').count()\n",
    "unique_session_correct['Bert Augmented Transformer'] = df['correct_per_session']\n",
    "unique_session_correct"
   ]
  },
  {
   "cell_type": "code",
   "execution_count": 178,
   "metadata": {},
   "outputs": [
    {
     "data": {
      "text/html": [
       "<div>\n",
       "<style scoped>\n",
       "    .dataframe tbody tr th:only-of-type {\n",
       "        vertical-align: middle;\n",
       "    }\n",
       "\n",
       "    .dataframe tbody tr th {\n",
       "        vertical-align: top;\n",
       "    }\n",
       "\n",
       "    .dataframe thead th {\n",
       "        text-align: right;\n",
       "    }\n",
       "</style>\n",
       "<table border=\"1\" class=\"dataframe\">\n",
       "  <thead>\n",
       "    <tr style=\"text-align: right;\">\n",
       "      <th></th>\n",
       "      <th>Skip Model Transformer</th>\n",
       "    </tr>\n",
       "  </thead>\n",
       "  <tbody>\n",
       "    <tr>\n",
       "      <th>0</th>\n",
       "      <td>3.201</td>\n",
       "    </tr>\n",
       "    <tr>\n",
       "      <th>1</th>\n",
       "      <td>5.576</td>\n",
       "    </tr>\n",
       "    <tr>\n",
       "      <th>2</th>\n",
       "      <td>7.796</td>\n",
       "    </tr>\n",
       "    <tr>\n",
       "      <th>3</th>\n",
       "      <td>9.618</td>\n",
       "    </tr>\n",
       "    <tr>\n",
       "      <th>4</th>\n",
       "      <td>11.939</td>\n",
       "    </tr>\n",
       "    <tr>\n",
       "      <th>5</th>\n",
       "      <td>12.827</td>\n",
       "    </tr>\n",
       "    <tr>\n",
       "      <th>6</th>\n",
       "      <td>13.124</td>\n",
       "    </tr>\n",
       "    <tr>\n",
       "      <th>7</th>\n",
       "      <td>12.477</td>\n",
       "    </tr>\n",
       "    <tr>\n",
       "      <th>8</th>\n",
       "      <td>10.906</td>\n",
       "    </tr>\n",
       "    <tr>\n",
       "      <th>9</th>\n",
       "      <td>7.995</td>\n",
       "    </tr>\n",
       "    <tr>\n",
       "      <th>10</th>\n",
       "      <td>4.541</td>\n",
       "    </tr>\n",
       "  </tbody>\n",
       "</table>\n",
       "</div>"
      ],
      "text/plain": [
       "    Skip Model Transformer\n",
       "0                    3.201\n",
       "1                    5.576\n",
       "2                    7.796\n",
       "3                    9.618\n",
       "4                   11.939\n",
       "5                   12.827\n",
       "6                   13.124\n",
       "7                   12.477\n",
       "8                   10.906\n",
       "9                    7.995\n",
       "10                   4.541"
      ]
     },
     "execution_count": 178,
     "metadata": {},
     "output_type": "execute_result"
    }
   ],
   "source": [
    "#number of skips correct in the whole sequence\n",
    "x = np.sum(skip_preds==skip_labels, axis=1)\n",
    "unique, counts = np.unique(x, return_counts=True)\n",
    "counts = counts/100000*100\n",
    "df = pd.DataFrame({'Skip Model Transformer':counts})\n",
    "df"
   ]
  },
  {
   "cell_type": "code",
   "execution_count": 138,
   "metadata": {},
   "outputs": [
    {
     "data": {
      "text/html": [
       "<div>\n",
       "<style scoped>\n",
       "    .dataframe tbody tr th:only-of-type {\n",
       "        vertical-align: middle;\n",
       "    }\n",
       "\n",
       "    .dataframe tbody tr th {\n",
       "        vertical-align: top;\n",
       "    }\n",
       "\n",
       "    .dataframe thead th {\n",
       "        text-align: right;\n",
       "    }\n",
       "</style>\n",
       "<table border=\"1\" class=\"dataframe\">\n",
       "  <thead>\n",
       "    <tr style=\"text-align: right;\">\n",
       "      <th></th>\n",
       "      <th>avg_session_accuracy</th>\n",
       "    </tr>\n",
       "    <tr>\n",
       "      <th>number_of_session_skips</th>\n",
       "      <th></th>\n",
       "    </tr>\n",
       "  </thead>\n",
       "  <tbody>\n",
       "    <tr>\n",
       "      <th>1</th>\n",
       "      <td>0.565702</td>\n",
       "    </tr>\n",
       "    <tr>\n",
       "      <th>2</th>\n",
       "      <td>0.553062</td>\n",
       "    </tr>\n",
       "    <tr>\n",
       "      <th>3</th>\n",
       "      <td>0.549985</td>\n",
       "    </tr>\n",
       "    <tr>\n",
       "      <th>4</th>\n",
       "      <td>0.547071</td>\n",
       "    </tr>\n",
       "    <tr>\n",
       "      <th>5</th>\n",
       "      <td>0.532560</td>\n",
       "    </tr>\n",
       "    <tr>\n",
       "      <th>6</th>\n",
       "      <td>0.545497</td>\n",
       "    </tr>\n",
       "    <tr>\n",
       "      <th>7</th>\n",
       "      <td>0.534895</td>\n",
       "    </tr>\n",
       "    <tr>\n",
       "      <th>8</th>\n",
       "      <td>0.534553</td>\n",
       "    </tr>\n",
       "    <tr>\n",
       "      <th>9</th>\n",
       "      <td>0.531570</td>\n",
       "    </tr>\n",
       "    <tr>\n",
       "      <th>10</th>\n",
       "      <td>0.525982</td>\n",
       "    </tr>\n",
       "  </tbody>\n",
       "</table>\n",
       "</div>"
      ],
      "text/plain": [
       "                         avg_session_accuracy\n",
       "number_of_session_skips                      \n",
       "1                                    0.565702\n",
       "2                                    0.553062\n",
       "3                                    0.549985\n",
       "4                                    0.547071\n",
       "5                                    0.532560\n",
       "6                                    0.545497\n",
       "7                                    0.534895\n",
       "8                                    0.534553\n",
       "9                                    0.531570\n",
       "10                                   0.525982"
      ]
     },
     "execution_count": 138,
     "metadata": {},
     "output_type": "execute_result"
    }
   ],
   "source": [
    "number_of_skips = np.sum(skip_preds, axis=1)\n",
    "correct_per_session = np.sum(skip_preds==skip_labels, axis=1)\n",
    "df = pd.DataFrame({'number_of_session_skips':unique_per_session, 'avg_session_accuracy':correct_per_session})\n",
    "df = df.groupby('number_of_session_skips').sum('correct_per_session')/df.groupby('number_of_session_skips').count()\n",
    "df = df/10\n",
    "df"
   ]
  },
  {
   "cell_type": "code",
   "execution_count": null,
   "metadata": {},
   "outputs": [],
   "source": []
  },
  {
   "cell_type": "code",
   "execution_count": null,
   "metadata": {},
   "outputs": [],
   "source": []
  }
 ],
 "metadata": {
  "kernelspec": {
   "display_name": "Python 3",
   "language": "python",
   "name": "python3"
  },
  "language_info": {
   "codemirror_mode": {
    "name": "ipython",
    "version": 3
   },
   "file_extension": ".py",
   "mimetype": "text/x-python",
   "name": "python",
   "nbconvert_exporter": "python",
   "pygments_lexer": "ipython3",
   "version": "3.8.5"
  }
 },
 "nbformat": 4,
 "nbformat_minor": 4
}
